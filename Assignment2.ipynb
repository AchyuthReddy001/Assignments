{
 "cells": [
  {
   "cell_type": "markdown",
   "metadata": {},
   "source": [
    "# 1.Create the below pattern using nested for loop in Python.\n",
    "*\n",
    "* *\n",
    "* * *\n",
    "* * * *\n",
    "* * * * *\n",
    "* * * *\n",
    "* * *\n",
    "* *\n",
    "*\n",
    "\n"
   ]
  },
  {
   "cell_type": "code",
   "execution_count": 2,
   "metadata": {},
   "outputs": [
    {
     "name": "stdout",
     "output_type": "stream",
     "text": [
      "enter a number:5\n",
      "\n",
      "* \n",
      "* * \n",
      "* * * \n",
      "* * * * \n",
      "* * * \n",
      "* * \n",
      "* \n",
      "----------------------------------\n",
      "* \n",
      "* * \n",
      "* * * \n",
      "* * * * \n",
      "* * * * * \n",
      "* * * * \n",
      "* * * \n",
      "* * \n",
      "* \n"
     ]
    }
   ],
   "source": [
    "num=int(input(\"enter a number:\"))\n",
    "for i in range(num):\n",
    "    if i < num :\n",
    "        print(\"* \" * i)\n",
    "for i in range(num-2,0,-1):\n",
    "    if i < num :\n",
    "        print(\"* \" * i)\n",
    "print(\"----------------------------------\")        \n",
    "for i in range(num):\n",
    "    for j in range(i+1):\n",
    "        print(\"* \",end=\"\")\n",
    "    print(\"\\r\")\n",
    "for i in range(num-1,0,-1):\n",
    "    for j in range(i):\n",
    "        print(\"* \",end=\"\")\n",
    "    print(\"\\r\")  "
   ]
  },
  {
   "cell_type": "markdown",
   "metadata": {},
   "source": [
    "# 6.Write a Python program to reverse a word after accepting the input from the user.\n",
    "\n",
    "Sample Output: Input word: Ineuron Output: noruenI"
   ]
  },
  {
   "cell_type": "code",
   "execution_count": 3,
   "metadata": {},
   "outputs": [
    {
     "name": "stdout",
     "output_type": "stream",
     "text": [
      "enter a word to reverse:Ineuron\n",
      "noruenI"
     ]
    }
   ],
   "source": [
    "def rev(word):\n",
    "    for i in range(1,len(word)+1):\n",
    "        print(word[-i],end=\"\")\n",
    "word=input(\"enter a word to reverse:\")\n",
    "rev(word)"
   ]
  },
  {
   "cell_type": "code",
   "execution_count": null,
   "metadata": {},
   "outputs": [],
   "source": []
  }
 ],
 "metadata": {
  "kernelspec": {
   "display_name": "Python 3",
   "language": "python",
   "name": "python3"
  },
  "language_info": {
   "codemirror_mode": {
    "name": "ipython",
    "version": 3
   },
   "file_extension": ".py",
   "mimetype": "text/x-python",
   "name": "python",
   "nbconvert_exporter": "python",
   "pygments_lexer": "ipython3",
   "version": "3.7.1"
  }
 },
 "nbformat": 4,
 "nbformat_minor": 2
}
