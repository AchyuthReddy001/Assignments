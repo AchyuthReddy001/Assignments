{
 "cells": [
  {
   "cell_type": "markdown",
   "metadata": {},
   "source": [
    "1.Write a program which will find all such numbers which are divisible by 7 but are not a multiple of 5, between 2000 and 3200 (both included). The numbers obtained should be printed in a comma-separated sequence on a single line. "
   ]
  },
  {
   "cell_type": "code",
   "execution_count": 18,
   "metadata": {},
   "outputs": [
    {
     "name": "stdout",
     "output_type": "stream",
     "text": [
      "2002 ,\t2009 ,\t2016 ,\t2023 ,\t2037 ,\t2044 ,\t2051 ,\t2058 ,\t2072 ,\t2079 ,\t2086 ,\t2093 ,\t2107 ,\t2114 ,\t2121 ,\t2128 ,\t2142 ,\t2149 ,\t2156 ,\t2163 ,\t2177 ,\t2184 ,\t2191 ,\t2198 ,\t2212 ,\t2219 ,\t2226 ,\t2233 ,\t2247 ,\t2254 ,\t2261 ,\t2268 ,\t2282 ,\t2289 ,\t2296 ,\t2303 ,\t2317 ,\t2324 ,\t2331 ,\t2338 ,\t2352 ,\t2359 ,\t2366 ,\t2373 ,\t2387 ,\t2394 ,\t2401 ,\t2408 ,\t2422 ,\t2429 ,\t2436 ,\t2443 ,\t2457 ,\t2464 ,\t2471 ,\t2478 ,\t2492 ,\t2499 ,\t2506 ,\t2513 ,\t2527 ,\t2534 ,\t2541 ,\t2548 ,\t2562 ,\t2569 ,\t2576 ,\t2583 ,\t2597 ,\t2604 ,\t2611 ,\t2618 ,\t2632 ,\t2639 ,\t2646 ,\t2653 ,\t2667 ,\t2674 ,\t2681 ,\t2688 ,\t2702 ,\t2709 ,\t2716 ,\t2723 ,\t2737 ,\t2744 ,\t2751 ,\t2758 ,\t2772 ,\t2779 ,\t2786 ,\t2793 ,\t2807 ,\t2814 ,\t2821 ,\t2828 ,\t2842 ,\t2849 ,\t2856 ,\t2863 ,\t2877 ,\t2884 ,\t2891 ,\t2898 ,\t2912 ,\t2919 ,\t2926 ,\t2933 ,\t2947 ,\t2954 ,\t2961 ,\t2968 ,\t2982 ,\t2989 ,\t2996 ,\t3003 ,\t3017 ,\t3024 ,\t3031 ,\t3038 ,\t3052 ,\t3059 ,\t3066 ,\t3073 ,\t3087 ,\t3094 ,\t3101 ,\t3108 ,\t3122 ,\t3129 ,\t3136 ,\t3143 ,\t3157 ,\t3164 ,\t3171 ,\t3178 ,\t3192 ,\t3199 ,\t"
     ]
    }
   ],
   "source": [
    "def find_divisble(x,y):\n",
    "    n_list=list()\n",
    "    for i in range(x,y+1):\n",
    "        if i%7==0:\n",
    "            if i%5!=0:\n",
    "                print(i,\",\",end=\"\\t\")\n",
    "                \n",
    "                n_list.append(i)\n",
    "    return n_list\n",
    "res=find_divisble(2000,3200)\n",
    "#res"
   ]
  },
  {
   "cell_type": "markdown",
   "metadata": {},
   "source": [
    "2.Write a Python program to accept the user's first and last name and then getting them printed in the the reverse order with a space between first name and last name. "
   ]
  },
  {
   "cell_type": "code",
   "execution_count": 38,
   "metadata": {},
   "outputs": [
    {
     "name": "stdout",
     "output_type": "stream",
     "text": [
      "enter your first name: achyuth\n",
      "enter your lastname: reddy\n",
      "achyuth reddy\n",
      "Before Reverse: achyuth reddy\n",
      "After Reverse : ydder htuyhca\n",
      "reddy\tachyuth\t"
     ]
    }
   ],
   "source": [
    "firstname=input(\"enter your first name: \")\n",
    "lastname=input(\"enter your lastname: \")\n",
    "fullname=firstname+\" \"+lastname\n",
    "re_name=\"\"\n",
    "name=list([firstname,lastname])\n",
    "print(fullname)\n",
    "for i in range(1,len(fullname)+1):\n",
    "    re_name=re_name+(fullname[-i])\n",
    "print(\"Before Reverse:\",fullname)\n",
    "print(\"After Reverse :\",re_name)\n",
    "for i in range(1,len(name)+1):\n",
    "    print(name[-i],end=\"\\t\")\n",
    "\n"
   ]
  },
  {
   "cell_type": "markdown",
   "metadata": {},
   "source": [
    "3.Write a Python program to find the volume of a sphere with diameter 12 cm.   \n",
    "Formula: V=4/3 * π * r 3 \n",
    " "
   ]
  },
  {
   "cell_type": "code",
   "execution_count": 34,
   "metadata": {},
   "outputs": [
    {
     "data": {
      "text/plain": [
       "905.142857142857"
      ]
     },
     "execution_count": 34,
     "metadata": {},
     "output_type": "execute_result"
    }
   ],
   "source": [
    "def vol_sphere(dia):\n",
    "    r=dia/2\n",
    "    pi=22/7\n",
    "    return 4/3 * pi * r**3\n",
    "volume=vol_sphere(12)\n",
    "volume"
   ]
  },
  {
   "cell_type": "markdown",
   "metadata": {},
   "source": [
    "4.Write a program which accepts a sequence of comma-separated numbers from console and generate a list. "
   ]
  },
  {
   "cell_type": "code",
   "execution_count": 46,
   "metadata": {},
   "outputs": [
    {
     "name": "stdout",
     "output_type": "stream",
     "text": [
      "enter numbers by comma separator:10,20,30,40,50\n",
      "[10, 20, 30, 40, 50]\n"
     ]
    }
   ],
   "source": [
    "number=input(\"enter numbers by comma separator:\")\n",
    "number=number.split(\",\")\n",
    "numbe_list=[]\n",
    "for i in range(len(number)):\n",
    "    numbe_list.append(int(number[i]))\n",
    "    \n",
    "print(numbe_list)"
   ]
  },
  {
   "cell_type": "markdown",
   "metadata": {},
   "source": [
    "5.Create the below pattern using nested for loop in Python. \n",
    " \n",
    "*  \n",
    "* *  \n",
    "* * *  \n",
    "* * * *  \n",
    "* * * * *  \n",
    "* * * *  \n",
    "* * *  \n",
    "* *  \n",
    "* "
   ]
  },
  {
   "cell_type": "code",
   "execution_count": 66,
   "metadata": {},
   "outputs": [
    {
     "name": "stdout",
     "output_type": "stream",
     "text": [
      "enter a number:10\n",
      "\n",
      "* \n",
      "* * \n",
      "* * * \n",
      "* * * * \n",
      "* * * * * \n",
      "* * * * * * \n",
      "* * * * * * * \n",
      "* * * * * * * * \n",
      "* * * * * * * * * \n",
      "* * * * * * * * \n",
      "* * * * * * * \n",
      "* * * * * * \n",
      "* * * * * \n",
      "* * * * \n",
      "* * * \n",
      "* * \n",
      "* \n",
      "----------------------------------\n",
      "* \n",
      "* * \n",
      "* * * \n",
      "* * * * \n",
      "* * * * * \n",
      "* * * * * * \n",
      "* * * * * * * \n",
      "* * * * * * * * \n",
      "* * * * * * * * * \n",
      "* * * * * * * * * * \n",
      "* * * * * * * * * \n",
      "* * * * * * * * \n",
      "* * * * * * * \n",
      "* * * * * * \n",
      "* * * * * \n",
      "* * * * \n",
      "* * * \n",
      "* * \n",
      "* \n"
     ]
    }
   ],
   "source": [
    "num=int(input(\"enter a number:\"))\n",
    "for i in range(num):\n",
    "    if i < num :\n",
    "        print(\"* \" * i)\n",
    "for i in range(num-2,0,-1):\n",
    "    if i < num :\n",
    "        print(\"* \" * i)\n",
    "print(\"----------------------------------\")        \n",
    "for i in range(num):\n",
    "    for j in range(i+1):\n",
    "        print(\"* \",end=\"\")\n",
    "    print(\"\\r\")\n",
    "for i in range(num-1,0,-1):\n",
    "    for j in range(i):\n",
    "        print(\"* \",end=\"\")\n",
    "    print(\"\\r\")  "
   ]
  },
  {
   "cell_type": "markdown",
   "metadata": {},
   "source": [
    "6.Write a Python program to reverse a word after accepting the input from the user. \n",
    " \n",
    "Sample Output: \n",
    "Input word: Ineuron\n",
    "Output: noruenI"
   ]
  },
  {
   "cell_type": "code",
   "execution_count": 73,
   "metadata": {},
   "outputs": [
    {
     "name": "stdout",
     "output_type": "stream",
     "text": [
      "enter a word to reverse:Ineuron\n",
      "noruenI"
     ]
    }
   ],
   "source": [
    "def rev(word):\n",
    "    for i in range(1,len(word)+1):\n",
    "        print(word[-i],end=\"\")\n",
    "word=input(\"enter a word to reverse:\")\n",
    "rev(word)"
   ]
  },
  {
   "cell_type": "markdown",
   "metadata": {},
   "source": [
    "7.Write a Python Program to print the given string in the format specified in the ​sample output. \n",
    " \n",
    " WE, THE PEOPLE OF INDIA, having solemnly resolved to constitute India into a SOVEREIGN, SOCIALIST, SECULAR, DEMOCRATIC REPUBLIC and to secure to all its citizens \n",
    " \n",
    "Sample Output: \n",
    " \n",
    "WE, THE PEOPLE OF INDIA,\n",
    "    \n",
    "    having solemnly resolved to constitute India into a SOVEREIGN, !  \n",
    "    \n",
    "        SOCIALIST, SECULAR, DEMOCRATIC REPUBLIC \n",
    "        \n",
    "            and to secure to all its citizens"
   ]
  },
  {
   "cell_type": "code",
   "execution_count": 82,
   "metadata": {},
   "outputs": [
    {
     "name": "stdout",
     "output_type": "stream",
     "text": [
      "WE, THE PEOPLE OF INDIA,\n",
      "\t having solemnly resolved to constitute India into a SOVEREIGN,\n",
      "\t\tSOCIALIST, SECULAR, DEMOCRATIC REPUBLIC \n",
      " \t\t  and to secure to all its citizens\n"
     ]
    }
   ],
   "source": [
    "print(\"WE, THE PEOPLE OF INDIA,{} having solemnly resolved to constitute India into a SOVEREIGN,{}SOCIALIST, SECULAR, DEMOCRATIC REPUBLIC {}and to secure to all its citizens\".format('\\n\\t','\\n\\t\\t','\\n \\t\\t  '))"
   ]
  },
  {
   "cell_type": "code",
   "execution_count": null,
   "metadata": {},
   "outputs": [],
   "source": []
  }
 ],
 "metadata": {
  "kernelspec": {
   "display_name": "Python 3",
   "language": "python",
   "name": "python3"
  },
  "language_info": {
   "codemirror_mode": {
    "name": "ipython",
    "version": 3
   },
   "file_extension": ".py",
   "mimetype": "text/x-python",
   "name": "python",
   "nbconvert_exporter": "python",
   "pygments_lexer": "ipython3",
   "version": "3.7.1"
  }
 },
 "nbformat": 4,
 "nbformat_minor": 2
}
