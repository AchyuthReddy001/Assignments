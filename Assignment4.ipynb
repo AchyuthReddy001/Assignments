{
 "cells": [
  {
   "cell_type": "markdown",
   "metadata": {},
   "source": [
    "# 1.1 Write a Python Program(with class concepts) to find the area of the triangle using the below formula. \n",
    " \n",
    "area = (s*(s-a)*(s-b)*(s-c)) ** 0.5 \n",
    " \n",
    "Function to take the length of the sides of triangle from user should be defined in the parent class and function to calculate the area should be defined in subclass"
   ]
  },
  {
   "cell_type": "code",
   "execution_count": 1,
   "metadata": {},
   "outputs": [
    {
     "name": "stdout",
     "output_type": "stream",
     "text": [
      "enter lenght of side a :10\n",
      "enter lenght of side b : 10\n",
      "enter lenght of side c : 10\n",
      "Area of Triangle:  43.30127018922193\n"
     ]
    }
   ],
   "source": [
    "class Triangle:\n",
    "    def leng_side():\n",
    "        a=int(input(\"enter lenght of side a :\" ))\n",
    "        b=int(input(\"enter lenght of side b : \"))\n",
    "        c=int(input(\"enter lenght of side c : \"))\n",
    "        \n",
    "        return a,b,c\n",
    "class Area(Triangle):\n",
    "    \n",
    "    def area():\n",
    "        tri=Triangle\n",
    "        a,b,c=tri.leng_side()\n",
    "        s=(a+b+c)/2\n",
    "        area=(s*(s-a)*(s-b)*(s-c)) ** 0.5\n",
    "        #print(\"Area of Triangle: \",area)\n",
    "        return area\n",
    "    \n",
    "    #area()\n",
    "    \n",
    "x=Area\n",
    "res=x.area()  \n",
    "print(\"Area of Triangle: \",res)"
   ]
  },
  {
   "cell_type": "markdown",
   "metadata": {},
   "source": [
    "# 1.2 Write a function filter_long_words() that takes a list of words and an integer n and returns the list of words that are longer than n. "
   ]
  },
  {
   "cell_type": "code",
   "execution_count": 12,
   "metadata": {},
   "outputs": [
    {
     "data": {
      "text/plain": [
       "['Function', 'take', 'length', 'sides', 'triangle']"
      ]
     },
     "execution_count": 12,
     "metadata": {},
     "output_type": "execute_result"
    }
   ],
   "source": [
    "def filter_long_words(words,num):\n",
    "    final_list_longer=[]\n",
    "    for i in words:\n",
    "        if len(i) > num :\n",
    "            final_list_longer.append(i)\n",
    "    return final_list_longer\n",
    "    \n",
    "\n",
    "list_of_words=[\"Function\", \"to\" ,\"take\" ,\"the\", \"length\", \"of\", \"the\", \"sides\", \"of\", \"triangle\"]\n",
    "res=filter_long_words(list_of_words,3)\n",
    "res"
   ]
  },
  {
   "cell_type": "markdown",
   "metadata": {},
   "source": [
    "# 2.1 Write a Python program using function concept that maps list of words into a list of integers representing the lengths of the corresponding words. \n",
    " \n",
    "Hint: If a list [ ab,cde,erty] is passed on to the python function output should come as [2,3,4] \n",
    " \n",
    "Here 2,3 and 4 are the lengths of the words in the list. "
   ]
  },
  {
   "cell_type": "code",
   "execution_count": 14,
   "metadata": {},
   "outputs": [
    {
     "data": {
      "text/plain": [
       "[8, 2, 4, 3, 6, 2, 3, 5, 2, 8]"
      ]
     },
     "execution_count": 14,
     "metadata": {},
     "output_type": "execute_result"
    }
   ],
   "source": [
    "def maps(seq):\n",
    "    len_of_words_list=[]\n",
    "    for i in seq:\n",
    "        n=len(i)\n",
    "        len_of_words_list.append(n)\n",
    "    return len_of_words_list\n",
    "list_of_words=[\"Function\", \"to\" ,\"take\" ,\"the\", \"length\", \"of\", \"the\", \"sides\", \"of\", \"triangle\"]\n",
    "res2=maps(list_of_words)\n",
    "res2   "
   ]
  },
  {
   "cell_type": "markdown",
   "metadata": {},
   "source": [
    "# 2.2 Write a Python function which takes a character (i.e. a string of length 1) and returns True if it is a vowel, False otherwise. "
   ]
  },
  {
   "cell_type": "code",
   "execution_count": 22,
   "metadata": {},
   "outputs": [
    {
     "data": {
      "text/plain": [
       "'True'"
      ]
     },
     "execution_count": 22,
     "metadata": {},
     "output_type": "execute_result"
    }
   ],
   "source": [
    "def vowel_check(char):\n",
    "    char=char.lower()\n",
    "    if char in ['a' ,'e','i','o','u']:\n",
    "        return \"True\"\n",
    "    else:\n",
    "        return \"False\"\n",
    "\n",
    "res3=vowel_check('a')\n",
    "res3"
   ]
  },
  {
   "cell_type": "code",
   "execution_count": null,
   "metadata": {},
   "outputs": [],
   "source": []
  }
 ],
 "metadata": {
  "kernelspec": {
   "display_name": "Python 3",
   "language": "python",
   "name": "python3"
  },
  "language_info": {
   "codemirror_mode": {
    "name": "ipython",
    "version": 3
   },
   "file_extension": ".py",
   "mimetype": "text/x-python",
   "name": "python",
   "nbconvert_exporter": "python",
   "pygments_lexer": "ipython3",
   "version": "3.7.1"
  }
 },
 "nbformat": 4,
 "nbformat_minor": 2
}
